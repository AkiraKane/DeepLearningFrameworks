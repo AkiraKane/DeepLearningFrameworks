{
 "cells": [
  {
   "cell_type": "markdown",
   "metadata": {
    "deletable": true,
    "editable": true
   },
   "source": [
    "# High-level Caffe2 Example"
   ]
  },
  {
   "cell_type": "code",
   "execution_count": 1,
   "metadata": {
    "collapsed": false,
    "deletable": true,
    "editable": true
   },
   "outputs": [],
   "source": [
    "import os\n",
    "import sys\n",
    "import caffe2\n",
    "import numpy as np\n",
    "from caffe2.python import core, model_helper, net_drawer, workspace, visualize, brew, optimizer, utils\n",
    "from caffe2.proto import caffe2_pb2\n",
    "from common.params import *\n",
    "from common.utils import *"
   ]
  },
  {
   "cell_type": "code",
   "execution_count": 2,
   "metadata": {
    "collapsed": false,
    "deletable": true,
    "editable": true
   },
   "outputs": [
    {
     "name": "stdout",
     "output_type": "stream",
     "text": [
      "OS:  linux\n",
      "Python:  3.5.2 |Anaconda custom (64-bit)| (default, Jul  2 2016, 17:53:06) \n",
      "[GCC 4.4.7 20120313 (Red Hat 4.4.7-1)]\n",
      "Numpy:  1.13.1\n",
      "GPU:  ['Tesla K80', 'Tesla K80', 'Tesla K80', 'Tesla K80']\n"
     ]
    }
   ],
   "source": [
    "print(\"OS: \", sys.platform)\n",
    "print(\"Python: \", sys.version)\n",
    "print(\"Numpy: \", np.__version__)\n",
    "print(\"GPU: \", get_gpu_name())"
   ]
  },
  {
   "cell_type": "code",
   "execution_count": 3,
   "metadata": {
    "collapsed": true,
    "deletable": true,
    "editable": true
   },
   "outputs": [],
   "source": [
    "if GPU:\n",
    "    device_opts = core.DeviceOption(caffe2_pb2.CUDA, 0)  # Run on GPU\n",
    "else:\n",
    "    device_opts = core.DeviceOption(caffe2_pb2.CPU, 0)  # Run on CPU"
   ]
  },
  {
   "cell_type": "code",
   "execution_count": 4,
   "metadata": {
    "collapsed": true,
    "deletable": true,
    "editable": true
   },
   "outputs": [],
   "source": [
    "def create_model(m, device_opts) :\n",
    "    with core.DeviceScope(device_opts):\n",
    "        conv1 = brew.conv(m, 'data', 'conv1', dim_in=3, dim_out=50, kernel=3, pad=1, no_gradient_to_input=1)\n",
    "        relu1 = brew.relu(m, conv1, 'relu1')\n",
    "        conv2 = brew.conv(m, relu1, 'conv2', dim_in=50, dim_out=50, kernel=3, pad=1)\n",
    "        pool1 = brew.max_pool(m, conv2, 'pool1', kernel=2, stride=2)\n",
    "        relu2 = brew.relu(m, pool1, 'relu2')\n",
    "        drop1 = brew.dropout(m, relu2, 'drop1', ratio=0.25)\n",
    "\n",
    "        conv3 = brew.conv(m, drop1, 'conv3', dim_in=50, dim_out=100, kernel=3, pad=1)\n",
    "        relu3 = brew.relu(m, conv3, 'relu3')\n",
    "        conv4 = brew.conv(m, relu3, 'conv4', dim_in=100, dim_out=100, kernel=3, pad=1)\n",
    "        pool2 = brew.max_pool(m, conv4, 'pool2', kernel=2, stride=2)   \n",
    "        relu4 = brew.relu(m, pool2, 'relu4')\n",
    "        drop2 = brew.dropout(m, relu4, 'drop2', ratio=0.25)\n",
    "        \n",
    "        fc1 = brew.fc(m, drop2, 'fc1', dim_in=100 * 8 * 8, dim_out=512)\n",
    "        relu5 = brew.relu(m, fc1, 'relu5')\n",
    "        drop3 = brew.dropout(m, relu5, 'drop3', ratio=0.5)\n",
    "        \n",
    "        fc2 = brew.fc(m, drop3, 'fc2', dim_in=512, dim_out=N_CLASSES)\n",
    "        softmax = brew.softmax(m, fc2, 'softmax')\n",
    "        return softmax"
   ]
  },
  {
   "cell_type": "code",
   "execution_count": 5,
   "metadata": {
    "collapsed": true,
    "deletable": true,
    "editable": true
   },
   "outputs": [],
   "source": [
    "def add_training_operators(softmax, m, device_opts) :\n",
    "    with core.DeviceScope(device_opts):\n",
    "        xent = m.LabelCrossEntropy([softmax, \"label\"], 'xent')\n",
    "        loss = m.AveragedLoss(xent, \"loss\")\n",
    "        #brew.accuracy(m, [softmax, \"label\"], \"accuracy\")\n",
    "        m.AddGradientOperators([loss])\n",
    "        opt = optimizer.build_sgd(\n",
    "            m,\n",
    "            base_learning_rate=LR, \n",
    "            policy='fixed',\n",
    "            momentum=MOMENTUM)"
   ]
  },
  {
   "cell_type": "code",
   "execution_count": 6,
   "metadata": {
    "collapsed": true,
    "deletable": true,
    "editable": true
   },
   "outputs": [],
   "source": [
    "def init_model():\n",
    "    # Create Place-holder for data\n",
    "    workspace.FeedBlob(\"data\", x_train[:BATCHSIZE], device_option=device_opts)\n",
    "    workspace.FeedBlob(\"label\", y_train[:BATCHSIZE], device_option=device_opts)\n",
    "    \n",
    "    # Initialise model\n",
    "    train_arg_scope = {\n",
    "        'order': 'NCHW',\n",
    "        'use_cudnn': True,\n",
    "        'cudnn_exhaustive_search': True,\n",
    "        'ws_nbytes_limit': (64 * 1024 * 1024),\n",
    "    }\n",
    "    train_model = model_helper.ModelHelper(\n",
    "        name=\"train_net\", arg_scope=train_arg_scope\n",
    "    )\n",
    "    softmax = create_model(train_model, device_opts=device_opts)\n",
    "    add_training_operators(softmax, train_model, device_opts=device_opts)\n",
    "\n",
    "    # Initialise workspace\n",
    "    workspace.RunNetOnce(train_model.param_init_net)\n",
    "    workspace.CreateNet(train_model.net)\n",
    "    return train_model"
   ]
  },
  {
   "cell_type": "code",
   "execution_count": 7,
   "metadata": {
    "collapsed": false,
    "deletable": true,
    "editable": true
   },
   "outputs": [
    {
     "name": "stdout",
     "output_type": "stream",
     "text": [
      "Downloading http://www.cs.toronto.edu/~kriz/cifar-10-python.tar.gz\n",
      "Done.\n",
      "Extracting files...\n",
      "Done.\n",
      "Preparing train set...\n",
      "Preparing test set...\n",
      "Done.\n",
      "(50000, 3, 32, 32) (10000, 3, 32, 32) (50000,) (10000,)\n",
      "float32 float32 int32 int32\n",
      "CPU times: user 3.02 s, sys: 1.6 s, total: 4.63 s\n",
      "Wall time: 20.1 s\n"
     ]
    }
   ],
   "source": [
    "%%time\n",
    "# Data into format for library\n",
    "x_train, x_test, y_train, y_test = cifar_for_library(channel_first=True)\n",
    "print(x_train.shape, x_test.shape, y_train.shape, y_test.shape)\n",
    "print(x_train.dtype, x_test.dtype, y_train.dtype, y_test.dtype)"
   ]
  },
  {
   "cell_type": "code",
   "execution_count": 8,
   "metadata": {
    "collapsed": false,
    "deletable": true,
    "editable": true
   },
   "outputs": [
    {
     "name": "stdout",
     "output_type": "stream",
     "text": [
      "CPU times: user 292 ms, sys: 568 ms, total: 860 ms\n",
      "Wall time: 8.57 s\n"
     ]
    }
   ],
   "source": [
    "%%time\n",
    "# Initialise model\n",
    "model = init_model()"
   ]
  },
  {
   "cell_type": "code",
   "execution_count": 9,
   "metadata": {
    "collapsed": false,
    "deletable": true,
    "editable": true
   },
   "outputs": [
    {
     "name": "stdout",
     "output_type": "stream",
     "text": [
      "Finished epoch:  0\n",
      "0: 1.3802518844604492\n",
      "Finished epoch:  1\n",
      "1: 1.0820488929748535\n",
      "Finished epoch:  2\n",
      "2: 0.7886406183242798\n",
      "Finished epoch:  3\n",
      "3: 0.6659115552902222\n",
      "Finished epoch:  4\n",
      "4: 0.8458279371261597\n",
      "Finished epoch:  5\n",
      "5: 0.6977649927139282\n",
      "Finished epoch:  6\n",
      "6: 0.6297710537910461\n",
      "Finished epoch:  7\n",
      "7: 0.4949362874031067\n",
      "Finished epoch:  8\n",
      "8: 0.4233488440513611\n",
      "Finished epoch:  9\n",
      "9: 0.4073508381843567\n",
      "Finished epoch:  10\n",
      "10: 0.4745761752128601\n",
      "Finished epoch:  11\n",
      "11: 0.5267429351806641\n",
      "Finished epoch:  12\n",
      "12: 0.3192582428455353\n",
      "Finished epoch:  13\n",
      "13: 0.4024101197719574\n",
      "Finished epoch:  14\n",
      "14: 0.24815119802951813\n",
      "Finished epoch:  15\n",
      "15: 0.16519305109977722\n",
      "Finished epoch:  16\n",
      "16: 0.23938198387622833\n",
      "Finished epoch:  17\n",
      "17: 0.3728084862232208\n",
      "Finished epoch:  18\n",
      "18: 0.17820550501346588\n",
      "Finished epoch:  19\n",
      "19: 0.16584725677967072\n",
      "CPU times: user 4min 57s, sys: 58.9 s, total: 5min 56s\n",
      "Wall time: 6min\n"
     ]
    }
   ],
   "source": [
    "%%time\n",
    "# Train model\n",
    "for j in range(EPOCHS):\n",
    "    for data, label in yield_mb(x_train, y_train, BATCHSIZE, shuffle=True):\n",
    "        # Run one mini-batch at time\n",
    "        workspace.FeedBlob(\"data\", data, device_option=device_opts)\n",
    "        workspace.FeedBlob(\"label\", label, device_option=device_opts)\n",
    "        workspace.RunNet(model.net)       \n",
    "    print(\"Finished epoch: \", j)\n",
    "    print(str(j) + ': ' + str(workspace.FetchBlob(\"loss\")))"
   ]
  },
  {
   "cell_type": "code",
   "execution_count": 10,
   "metadata": {
    "collapsed": false,
    "deletable": true,
    "editable": true
   },
   "outputs": [
    {
     "name": "stdout",
     "output_type": "stream",
     "text": [
      "CPU times: user 1.02 s, sys: 264 ms, total: 1.29 s\n",
      "Wall time: 1.48 s\n"
     ]
    }
   ],
   "source": [
    "%%time\n",
    "# Init test model\n",
    "test_arg_scope = {\n",
    "    'order': 'NCHW',\n",
    "    'use_cudnn': True,\n",
    "    'cudnn_exhaustive_search': True,\n",
    "    'ws_nbytes_limit': (64 * 1024 * 1024),\n",
    "    'is_test': True,\n",
    "}\n",
    "test_model= model_helper.ModelHelper(name=\"test_net\", init_params=False, arg_scope=test_arg_scope)\n",
    "create_model(test_model, device_opts=device_opts)\n",
    "workspace.RunNetOnce(test_model.param_init_net)\n",
    "workspace.CreateNet(test_model.net, overwrite=True)\n",
    "\n",
    "# Run test\n",
    "n_samples = (y_test.shape[0]//BATCHSIZE)*BATCHSIZE\n",
    "y_guess = np.zeros(n_samples, dtype=np.int)\n",
    "y_truth = y_test[:n_samples]\n",
    "c = 0\n",
    "for data, label in yield_mb(x_test, y_test, BATCHSIZE):\n",
    "    workspace.FeedBlob(\"data\", data, device_option=device_opts)\n",
    "    workspace.RunNet(test_model.net)\n",
    "    y_guess[c*BATCHSIZE:(c+1)*BATCHSIZE] = (np.argmax(workspace.FetchBlob(\"softmax\"), axis=-1))\n",
    "    c += 1"
   ]
  },
  {
   "cell_type": "code",
   "execution_count": 11,
   "metadata": {
    "collapsed": false,
    "deletable": true,
    "editable": true
   },
   "outputs": [
    {
     "name": "stdout",
     "output_type": "stream",
     "text": [
      "Accuracy:  0.807592147436\n"
     ]
    }
   ],
   "source": [
    "print(\"Accuracy: \", sum(y_guess == y_truth)/float(len(y_guess)))"
   ]
  }
 ],
 "metadata": {
  "anaconda-cloud": {},
  "kernelspec": {
   "display_name": "Python 3.5",
   "language": "python",
   "name": "python3"
  },
  "language_info": {
   "codemirror_mode": {
    "name": "ipython",
    "version": 3
   },
   "file_extension": ".py",
   "mimetype": "text/x-python",
   "name": "python",
   "nbconvert_exporter": "python",
   "pygments_lexer": "ipython3",
   "version": "3.5.2"
  }
 },
 "nbformat": 4,
 "nbformat_minor": 2
}
