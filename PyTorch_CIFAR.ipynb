{
 "cells": [
  {
   "cell_type": "markdown",
   "metadata": {},
   "source": [
    "# High-level PyTorch Example"
   ]
  },
  {
   "cell_type": "code",
   "execution_count": 1,
   "metadata": {},
   "outputs": [],
   "source": [
    "import os\n",
    "import sys\n",
    "import numpy as np\n",
    "import math\n",
    "import torch\n",
    "import torch.nn as nn\n",
    "import torch.nn.functional as F\n",
    "import torch.optim as optim\n",
    "import torch.utils.data as data_utils\n",
    "import torch.nn.init as init\n",
    "from torch.autograd import Variable\n",
    "from common.params import *\n",
    "from common.utils import *\n",
    "from gpumon import log_context\n",
    "from IPython.display import SVG, display\n",
    "from bokeh.io import export_svgs\n",
    "import pip"
   ]
  },
  {
   "cell_type": "code",
   "execution_count": 2,
   "metadata": {
    "collapsed": true
   },
   "outputs": [],
   "source": [
    "from bokeh.io import output_notebook, show"
   ]
  },
  {
   "cell_type": "code",
   "execution_count": 3,
   "metadata": {},
   "outputs": [
    {
     "data": {
      "text/html": [
       "\n",
       "    <div class=\"bk-root\">\n",
       "        <a href=\"https://bokeh.pydata.org\" target=\"_blank\" class=\"bk-logo bk-logo-small bk-logo-notebook\"></a>\n",
       "        <span id=\"97c7c6ff-faf9-4545-829d-a27271691d86\">Loading BokehJS ...</span>\n",
       "    </div>"
      ]
     },
     "metadata": {},
     "output_type": "display_data"
    },
    {
     "data": {
      "application/javascript": [
       "\n",
       "(function(root) {\n",
       "  function now() {\n",
       "    return new Date();\n",
       "  }\n",
       "\n",
       "  var force = true;\n",
       "\n",
       "  if (typeof (root._bokeh_onload_callbacks) === \"undefined\" || force === true) {\n",
       "    root._bokeh_onload_callbacks = [];\n",
       "    root._bokeh_is_loading = undefined;\n",
       "  }\n",
       "\n",
       "\n",
       "  \n",
       "  if (typeof (root._bokeh_timeout) === \"undefined\" || force === true) {\n",
       "    root._bokeh_timeout = Date.now() + 5000;\n",
       "    root._bokeh_failed_load = false;\n",
       "  }\n",
       "\n",
       "  var NB_LOAD_WARNING = {'data': {'text/html':\n",
       "     \"<div style='background-color: #fdd'>\\n\"+\n",
       "     \"<p>\\n\"+\n",
       "     \"BokehJS does not appear to have successfully loaded. If loading BokehJS from CDN, this \\n\"+\n",
       "     \"may be due to a slow or bad network connection. Possible fixes:\\n\"+\n",
       "     \"</p>\\n\"+\n",
       "     \"<ul>\\n\"+\n",
       "     \"<li>re-rerun `output_notebook()` to attempt to load from CDN again, or</li>\\n\"+\n",
       "     \"<li>use INLINE resources instead, as so:</li>\\n\"+\n",
       "     \"</ul>\\n\"+\n",
       "     \"<code>\\n\"+\n",
       "     \"from bokeh.resources import INLINE\\n\"+\n",
       "     \"output_notebook(resources=INLINE)\\n\"+\n",
       "     \"</code>\\n\"+\n",
       "     \"</div>\"}};\n",
       "\n",
       "  function display_loaded() {\n",
       "    if (root.Bokeh !== undefined) {\n",
       "      var el = document.getElementById(\"97c7c6ff-faf9-4545-829d-a27271691d86\");\n",
       "      if (el != null) {\n",
       "        el.textContent = \"BokehJS \" + Bokeh.version + \" successfully loaded.\";\n",
       "      }\n",
       "    } else if (Date.now() < root._bokeh_timeout) {\n",
       "      setTimeout(display_loaded, 100)\n",
       "    }\n",
       "  }\n",
       "\n",
       "\n",
       "  function run_callbacks() {\n",
       "    try {\n",
       "      root._bokeh_onload_callbacks.forEach(function(callback) { callback() });\n",
       "    }\n",
       "    finally {\n",
       "      delete root._bokeh_onload_callbacks\n",
       "    }\n",
       "    console.info(\"Bokeh: all callbacks have finished\");\n",
       "  }\n",
       "\n",
       "  function load_libs(js_urls, callback) {\n",
       "    root._bokeh_onload_callbacks.push(callback);\n",
       "    if (root._bokeh_is_loading > 0) {\n",
       "      console.log(\"Bokeh: BokehJS is being loaded, scheduling callback at\", now());\n",
       "      return null;\n",
       "    }\n",
       "    if (js_urls == null || js_urls.length === 0) {\n",
       "      run_callbacks();\n",
       "      return null;\n",
       "    }\n",
       "    console.log(\"Bokeh: BokehJS not loaded, scheduling load and callback at\", now());\n",
       "    root._bokeh_is_loading = js_urls.length;\n",
       "    for (var i = 0; i < js_urls.length; i++) {\n",
       "      var url = js_urls[i];\n",
       "      var s = document.createElement('script');\n",
       "      s.src = url;\n",
       "      s.async = false;\n",
       "      s.onreadystatechange = s.onload = function() {\n",
       "        root._bokeh_is_loading--;\n",
       "        if (root._bokeh_is_loading === 0) {\n",
       "          console.log(\"Bokeh: all BokehJS libraries loaded\");\n",
       "          run_callbacks()\n",
       "        }\n",
       "      };\n",
       "      s.onerror = function() {\n",
       "        console.warn(\"failed to load library \" + url);\n",
       "      };\n",
       "      console.log(\"Bokeh: injecting script tag for BokehJS library: \", url);\n",
       "      document.getElementsByTagName(\"head\")[0].appendChild(s);\n",
       "    }\n",
       "  };var element = document.getElementById(\"97c7c6ff-faf9-4545-829d-a27271691d86\");\n",
       "  if (element == null) {\n",
       "    console.log(\"Bokeh: ERROR: autoload.js configured with elementid '97c7c6ff-faf9-4545-829d-a27271691d86' but no matching script tag was found. \")\n",
       "    return false;\n",
       "  }\n",
       "\n",
       "  var js_urls = [\"https://cdn.pydata.org/bokeh/release/bokeh-0.12.7.min.js\", \"https://cdn.pydata.org/bokeh/release/bokeh-widgets-0.12.7.min.js\", \"https://cdn.pydata.org/bokeh/release/bokeh-tables-0.12.7.min.js\", \"https://cdn.pydata.org/bokeh/release/bokeh-gl-0.12.7.min.js\"];\n",
       "\n",
       "  var inline_js = [\n",
       "    function(Bokeh) {\n",
       "      Bokeh.set_log_level(\"info\");\n",
       "    },\n",
       "    \n",
       "    function(Bokeh) {\n",
       "      \n",
       "    },\n",
       "    \n",
       "    function(Bokeh) {\n",
       "      \n",
       "      document.getElementById(\"97c7c6ff-faf9-4545-829d-a27271691d86\").textContent = \"BokehJS is loading...\";\n",
       "    },\n",
       "    function(Bokeh) {\n",
       "      console.log(\"Bokeh: injecting CSS: https://cdn.pydata.org/bokeh/release/bokeh-0.12.7.min.css\");\n",
       "      Bokeh.embed.inject_css(\"https://cdn.pydata.org/bokeh/release/bokeh-0.12.7.min.css\");\n",
       "      console.log(\"Bokeh: injecting CSS: https://cdn.pydata.org/bokeh/release/bokeh-widgets-0.12.7.min.css\");\n",
       "      Bokeh.embed.inject_css(\"https://cdn.pydata.org/bokeh/release/bokeh-widgets-0.12.7.min.css\");\n",
       "      console.log(\"Bokeh: injecting CSS: https://cdn.pydata.org/bokeh/release/bokeh-tables-0.12.7.min.css\");\n",
       "      Bokeh.embed.inject_css(\"https://cdn.pydata.org/bokeh/release/bokeh-tables-0.12.7.min.css\");\n",
       "    }\n",
       "  ];\n",
       "\n",
       "  function run_inline_js() {\n",
       "    \n",
       "    if ((root.Bokeh !== undefined) || (force === true)) {\n",
       "      for (var i = 0; i < inline_js.length; i++) {\n",
       "        inline_js[i].call(root, root.Bokeh);\n",
       "      }if (force === true) {\n",
       "        display_loaded();\n",
       "      }} else if (Date.now() < root._bokeh_timeout) {\n",
       "      setTimeout(run_inline_js, 100);\n",
       "    } else if (!root._bokeh_failed_load) {\n",
       "      console.log(\"Bokeh: BokehJS failed to load within specified timeout.\");\n",
       "      root._bokeh_failed_load = true;\n",
       "    } else if (force !== true) {\n",
       "      var cell = $(document.getElementById(\"97c7c6ff-faf9-4545-829d-a27271691d86\")).parents('.cell').data().cell;\n",
       "      cell.output_area.append_execute_result(NB_LOAD_WARNING)\n",
       "    }\n",
       "\n",
       "  }\n",
       "\n",
       "  if (root._bokeh_is_loading === 0) {\n",
       "    console.log(\"Bokeh: BokehJS loaded, going straight to plotting\");\n",
       "    run_inline_js();\n",
       "  } else {\n",
       "    load_libs(js_urls, function() {\n",
       "      console.log(\"Bokeh: BokehJS plotting callback run at\", now());\n",
       "      run_inline_js();\n",
       "    });\n",
       "  }\n",
       "}(window));"
      ]
     },
     "metadata": {},
     "output_type": "display_data"
    }
   ],
   "source": [
    "output_notebook()"
   ]
  },
  {
   "cell_type": "code",
   "execution_count": 4,
   "metadata": {
    "collapsed": true
   },
   "outputs": [],
   "source": [
    "# Big impact on training-time (from 350 to 165s)\n",
    "torch.backends.cudnn.benchmark=True # enables cudnn's auto-tuner"
   ]
  },
  {
   "cell_type": "code",
   "execution_count": 5,
   "metadata": {},
   "outputs": [
    {
     "name": "stdout",
     "output_type": "stream",
     "text": [
      "OS:  linux\n",
      "Python:  3.6.1 |Anaconda custom (64-bit)| (default, May 11 2017, 13:09:58) \n",
      "[GCC 4.4.7 20120313 (Red Hat 4.4.7-1)]\n",
      "PyTorch:  0.2.0_4\n",
      "Numpy:  1.13.1\n",
      "GPU:  ['Tesla M60', 'Tesla M60', 'Tesla M60', 'Tesla M60']\n"
     ]
    }
   ],
   "source": [
    "print(\"OS: \", sys.platform)\n",
    "print(\"Python: \", sys.version)\n",
    "print(\"PyTorch: \", torch.__version__)\n",
    "print(\"Numpy: \", np.__version__)\n",
    "print(\"GPU: \", get_gpu_name())"
   ]
  },
  {
   "cell_type": "code",
   "execution_count": 6,
   "metadata": {
    "collapsed": true
   },
   "outputs": [],
   "source": [
    "class SymbolModule(nn.Module):\n",
    "    def __init__(self):\n",
    "        super(SymbolModule, self).__init__()\n",
    "        self.conv1 = nn.Conv2d(3, 50, kernel_size=3, padding=1)\n",
    "        self.conv2 = nn.Conv2d(50, 50, kernel_size=3, padding=1)\n",
    "        self.conv3 = nn.Conv2d(50, 100, kernel_size=3, padding=1)\n",
    "        self.conv4 = nn.Conv2d(100, 100, kernel_size=3, padding=1)\n",
    "        # feature map size is 8*8 by pooling\n",
    "        self.fc1 = nn.Linear(100*8*8, 512)\n",
    "        self.fc2 = nn.Linear(512, N_CLASSES)\n",
    "\n",
    "    def forward(self, x):\n",
    "        \"\"\" PyTorch requires a flag for training in dropout \"\"\"\n",
    "        x = self.conv2(F.relu(self.conv1(x)))\n",
    "        x = F.relu(F.max_pool2d(x, kernel_size=2, stride=2))\n",
    "        x = F.dropout(x, 0.25, training=self.training)\n",
    "\n",
    "        x = self.conv4(F.relu(self.conv3(x)))\n",
    "        x = F.relu(F.max_pool2d(x, kernel_size=2, stride=2))\n",
    "        x = F.dropout(x, 0.25, training=self.training)\n",
    "\n",
    "        x = x.view(-1, 100*8*8)   # reshape Variable\n",
    "        x = F.dropout(F.relu(self.fc1(x)), 0.5, training=self.training)\n",
    "        # nn.CrossEntropyLoss() contains softmax, don't apply twice\n",
    "        #return F.log_softmax(x)\n",
    "        return self.fc2(x)"
   ]
  },
  {
   "cell_type": "code",
   "execution_count": 7,
   "metadata": {
    "collapsed": true
   },
   "outputs": [],
   "source": [
    "def init_model(m):\n",
    "    # Implementation of momentum:\n",
    "    # v = \\rho * v + g \\\\\n",
    "    # p = p - lr * v\n",
    "    opt = optim.SGD(m.parameters(), lr=LR, momentum=MOMENTUM)\n",
    "    criterion = nn.CrossEntropyLoss()\n",
    "    return opt, criterion"
   ]
  },
  {
   "cell_type": "code",
   "execution_count": 8,
   "metadata": {
    "scrolled": true
   },
   "outputs": [
    {
     "name": "stdout",
     "output_type": "stream",
     "text": [
      "Downloading http://www.cs.toronto.edu/~kriz/cifar-10-python.tar.gz\n",
      "Done.\n",
      "Extracting files...\n",
      "Done.\n",
      "Preparing train set...\n",
      "Preparing test set...\n",
      "Done.\n",
      "(50000, 3, 32, 32) (10000, 3, 32, 32) (50000,) (10000,)\n",
      "float32 float32 int64 int64\n",
      "CPU times: user 3.36 s, sys: 1.72 s, total: 5.08 s\n",
      "Wall time: 43 s\n"
     ]
    }
   ],
   "source": [
    "%%time\n",
    "# Data into format for library\n",
    "x_train, x_test, y_train, y_test = cifar_for_library(channel_first=True)\n",
    "# Torch-specific\n",
    "y_train = y_train.astype(np.int64)\n",
    "y_test = y_test.astype(np.int64)\n",
    "print(x_train.shape, x_test.shape, y_train.shape, y_test.shape)\n",
    "print(x_train.dtype, x_test.dtype, y_train.dtype, y_test.dtype)"
   ]
  },
  {
   "cell_type": "code",
   "execution_count": 9,
   "metadata": {},
   "outputs": [
    {
     "name": "stdout",
     "output_type": "stream",
     "text": [
      "CPU times: user 1.81 s, sys: 2.42 s, total: 4.23 s\n",
      "Wall time: 5.26 s\n"
     ]
    }
   ],
   "source": [
    "%%time\n",
    "sym = SymbolModule()\n",
    "sym.cuda() # CUDA!"
   ]
  },
  {
   "cell_type": "code",
   "execution_count": 10,
   "metadata": {},
   "outputs": [
    {
     "name": "stdout",
     "output_type": "stream",
     "text": [
      "CPU times: user 0 ns, sys: 0 ns, total: 0 ns\n",
      "Wall time: 246 µs\n"
     ]
    }
   ],
   "source": [
    "%%time\n",
    "optimizer, criterion = init_model(sym)"
   ]
  },
  {
   "cell_type": "code",
   "execution_count": 11,
   "metadata": {},
   "outputs": [
    {
     "name": "stdout",
     "output_type": "stream",
     "text": [
      "0\n",
      "1\n",
      "2\n",
      "3\n",
      "4\n",
      "5\n",
      "6\n",
      "7\n",
      "8\n",
      "9\n",
      "CPU times: user 1min 31s, sys: 15 s, total: 1min 46s\n",
      "Wall time: 1min 48s\n"
     ]
    }
   ],
   "source": [
    "%%time\n",
    "with log_context('pytorch.txt') as log:\n",
    "    # Sets training = True\n",
    "    sym.train()  \n",
    "    for j in range(EPOCHS):\n",
    "        for data, target in yield_mb(x_train, y_train, BATCHSIZE, shuffle=True):\n",
    "            # Get samples\n",
    "            data = Variable(torch.FloatTensor(data).cuda())\n",
    "            target = Variable(torch.LongTensor(target).cuda())\n",
    "            # Init\n",
    "            optimizer.zero_grad()\n",
    "            # Forwards\n",
    "            output = sym(data)\n",
    "            # Loss\n",
    "            loss = criterion(output, target)\n",
    "            # Back-prop\n",
    "            loss.backward()\n",
    "            optimizer.step()\n",
    "        # Log\n",
    "        print(j)"
   ]
  },
  {
   "cell_type": "code",
   "execution_count": 12,
   "metadata": {
    "collapsed": true
   },
   "outputs": [],
   "source": [
    "p = log.plot()"
   ]
  },
  {
   "cell_type": "code",
   "execution_count": 13,
   "metadata": {},
   "outputs": [
    {
     "data": {
      "text/html": [
       "\n",
       "\n",
       "    <div class=\"bk-root\">\n",
       "        <div class=\"bk-plotdiv\" id=\"21e232d9-565a-4d6e-8b81-5e07ad2b5e8e\"></div>\n",
       "    </div>\n",
       "<script type=\"text/javascript\">\n",
       "  \n",
       "  (function(root) {\n",
       "    function now() {\n",
       "      return new Date();\n",
       "    }\n",
       "  \n",
       "    var force = false;\n",
       "  \n",
       "    if (typeof (root._bokeh_onload_callbacks) === \"undefined\" || force === true) {\n",
       "      root._bokeh_onload_callbacks = [];\n",
       "      root._bokeh_is_loading = undefined;\n",
       "    }\n",
       "  \n",
       "  \n",
       "    \n",
       "    if (typeof (root._bokeh_timeout) === \"undefined\" || force === true) {\n",
       "      root._bokeh_timeout = Date.now() + 0;\n",
       "      root._bokeh_failed_load = false;\n",
       "    }\n",
       "  \n",
       "    var NB_LOAD_WARNING = {'data': {'text/html':\n",
       "       \"<div style='background-color: #fdd'>\\n\"+\n",
       "       \"<p>\\n\"+\n",
       "       \"BokehJS does not appear to have successfully loaded. If loading BokehJS from CDN, this \\n\"+\n",
       "       \"may be due to a slow or bad network connection. Possible fixes:\\n\"+\n",
       "       \"</p>\\n\"+\n",
       "       \"<ul>\\n\"+\n",
       "       \"<li>re-rerun `output_notebook()` to attempt to load from CDN again, or</li>\\n\"+\n",
       "       \"<li>use INLINE resources instead, as so:</li>\\n\"+\n",
       "       \"</ul>\\n\"+\n",
       "       \"<code>\\n\"+\n",
       "       \"from bokeh.resources import INLINE\\n\"+\n",
       "       \"output_notebook(resources=INLINE)\\n\"+\n",
       "       \"</code>\\n\"+\n",
       "       \"</div>\"}};\n",
       "  \n",
       "    function display_loaded() {\n",
       "      if (root.Bokeh !== undefined) {\n",
       "        var el = document.getElementById(\"21e232d9-565a-4d6e-8b81-5e07ad2b5e8e\");\n",
       "        if (el != null) {\n",
       "          el.textContent = \"BokehJS \" + Bokeh.version + \" successfully loaded.\";\n",
       "        }\n",
       "      } else if (Date.now() < root._bokeh_timeout) {\n",
       "        setTimeout(display_loaded, 100)\n",
       "      }\n",
       "    }\n",
       "  \n",
       "  \n",
       "    function run_callbacks() {\n",
       "      try {\n",
       "        root._bokeh_onload_callbacks.forEach(function(callback) { callback() });\n",
       "      }\n",
       "      finally {\n",
       "        delete root._bokeh_onload_callbacks\n",
       "      }\n",
       "      console.info(\"Bokeh: all callbacks have finished\");\n",
       "    }\n",
       "  \n",
       "    function load_libs(js_urls, callback) {\n",
       "      root._bokeh_onload_callbacks.push(callback);\n",
       "      if (root._bokeh_is_loading > 0) {\n",
       "        console.log(\"Bokeh: BokehJS is being loaded, scheduling callback at\", now());\n",
       "        return null;\n",
       "      }\n",
       "      if (js_urls == null || js_urls.length === 0) {\n",
       "        run_callbacks();\n",
       "        return null;\n",
       "      }\n",
       "      console.log(\"Bokeh: BokehJS not loaded, scheduling load and callback at\", now());\n",
       "      root._bokeh_is_loading = js_urls.length;\n",
       "      for (var i = 0; i < js_urls.length; i++) {\n",
       "        var url = js_urls[i];\n",
       "        var s = document.createElement('script');\n",
       "        s.src = url;\n",
       "        s.async = false;\n",
       "        s.onreadystatechange = s.onload = function() {\n",
       "          root._bokeh_is_loading--;\n",
       "          if (root._bokeh_is_loading === 0) {\n",
       "            console.log(\"Bokeh: all BokehJS libraries loaded\");\n",
       "            run_callbacks()\n",
       "          }\n",
       "        };\n",
       "        s.onerror = function() {\n",
       "          console.warn(\"failed to load library \" + url);\n",
       "        };\n",
       "        console.log(\"Bokeh: injecting script tag for BokehJS library: \", url);\n",
       "        document.getElementsByTagName(\"head\")[0].appendChild(s);\n",
       "      }\n",
       "    };var element = document.getElementById(\"21e232d9-565a-4d6e-8b81-5e07ad2b5e8e\");\n",
       "    if (element == null) {\n",
       "      console.log(\"Bokeh: ERROR: autoload.js configured with elementid '21e232d9-565a-4d6e-8b81-5e07ad2b5e8e' but no matching script tag was found. \")\n",
       "      return false;\n",
       "    }\n",
       "  \n",
       "    var js_urls = [];\n",
       "  \n",
       "    var inline_js = [\n",
       "      function(Bokeh) {\n",
       "        (function() {\n",
       "          var fn = function() {\n",
       "            var docs_json = {\"fa24a3a5-d871-4592-9fb7-a386c560bdb6\":{\"roots\":{\"references\":[{\"attributes\":{\"data_source\":{\"id\":\"910bd953-fbae-46dc-a3e3-2dfdb6d15409\",\"type\":\"ColumnDataSource\"},\"glyph\":{\"id\":\"2e5d7b4c-3276-4a15-b6a2-352f6a5ba818\",\"type\":\"Line\"},\"hover_glyph\":null,\"muted_glyph\":null,\"nonselection_glyph\":{\"id\":\"c43b2641-fc03-428f-a845-4525bf8b1f68\",\"type\":\"Line\"},\"selection_glyph\":null,\"view\":{\"id\":\"ced38d59-365b-4df3-a288-1c509c401808\",\"type\":\"CDSView\"}},\"id\":\"2786ac8a-34b4-402a-98c4-7ba82b2b0cd5\",\"type\":\"GlyphRenderer\"},{\"attributes\":{\"source\":{\"id\":\"910bd953-fbae-46dc-a3e3-2dfdb6d15409\",\"type\":\"ColumnDataSource\"}},\"id\":\"ced38d59-365b-4df3-a288-1c509c401808\",\"type\":\"CDSView\"},{\"attributes\":{},\"id\":\"a713f0d9-404c-4d04-ad6d-76bcf2816fee\",\"type\":\"BasicTicker\"},{\"attributes\":{\"line_alpha\":{\"value\":0.1},\"line_color\":{\"value\":\"#1f77b4\"},\"line_width\":{\"value\":4},\"x\":{\"field\":\"timestamp\"},\"y\":{\"field\":\"gpu 1\"}},\"id\":\"fd5277d8-b1ba-4d36-9d39-991641694db0\",\"type\":\"Line\"},{\"attributes\":{\"base\":60,\"mantissas\":[1,2,5,10,15,20,30],\"max_interval\":1800000.0,\"min_interval\":1000.0,\"num_minor_ticks\":0},\"id\":\"a308a25b-2f89-46c1-a889-5c4a241c5d21\",\"type\":\"AdaptiveTicker\"},{\"attributes\":{},\"id\":\"cfe663d9-de31-4e29-9a95-e0b18186264e\",\"type\":\"PanTool\"},{\"attributes\":{\"line_color\":{\"value\":\"#1f78b4\"},\"line_width\":{\"value\":4},\"x\":{\"field\":\"timestamp\"},\"y\":{\"field\":\"gpu 1\"}},\"id\":\"359b2edf-f19c-43ca-b174-82eed56c3081\",\"type\":\"Line\"},{\"attributes\":{\"dimension\":1,\"plot\":{\"id\":\"03634ccb-a6ed-4c70-b152-6f5bde58e5ca\",\"subtype\":\"Figure\",\"type\":\"Plot\"},\"ticker\":{\"id\":\"a713f0d9-404c-4d04-ad6d-76bcf2816fee\",\"type\":\"BasicTicker\"}},\"id\":\"f63c6998-fc65-40db-8451-c21d59f7e9b8\",\"type\":\"Grid\"},{\"attributes\":{},\"id\":\"95938b89-b64b-462a-acd0-e168e503f845\",\"type\":\"DatetimeTickFormatter\"},{\"attributes\":{\"months\":[0,1,2,3,4,5,6,7,8,9,10,11]},\"id\":\"70be448a-9a78-4083-a88a-7ef1b428bbf0\",\"type\":\"MonthsTicker\"},{\"attributes\":{\"label\":{\"value\":\"GPU 3\"},\"renderers\":[{\"id\":\"2786ac8a-34b4-402a-98c4-7ba82b2b0cd5\",\"type\":\"GlyphRenderer\"}]},\"id\":\"e86e40f2-b308-4974-8b07-1216f85eb51d\",\"type\":\"LegendItem\"},{\"attributes\":{},\"id\":\"1d7dec6a-c0eb-46b3-8a13-41bdadcb27d1\",\"type\":\"WheelZoomTool\"},{\"attributes\":{\"label\":{\"value\":\"GPU 0\"},\"renderers\":[{\"id\":\"1510d813-2ce5-4b2c-b19c-d63df287462a\",\"type\":\"GlyphRenderer\"}]},\"id\":\"ed60f722-cbff-446e-9e8f-38cfa96b2be2\",\"type\":\"LegendItem\"},{\"attributes\":{\"num_minor_ticks\":5},\"id\":\"58995cf3-5559-45f0-ba73-0b8321e6625e\",\"type\":\"DatetimeTicker\"},{\"attributes\":{\"data_source\":{\"id\":\"910bd953-fbae-46dc-a3e3-2dfdb6d15409\",\"type\":\"ColumnDataSource\"},\"glyph\":{\"id\":\"3731c0e9-4364-4b51-b158-0de03dcf28b7\",\"type\":\"Line\"},\"hover_glyph\":null,\"muted_glyph\":null,\"nonselection_glyph\":{\"id\":\"f6009ec6-9986-4a02-aa85-b303ac322bf1\",\"type\":\"Line\"},\"selection_glyph\":null,\"view\":{\"id\":\"a99519f0-7e82-4c5e-b874-ecdd7b509d76\",\"type\":\"CDSView\"}},\"id\":\"1510d813-2ce5-4b2c-b19c-d63df287462a\",\"type\":\"GlyphRenderer\"},{\"attributes\":{\"bottom_units\":\"screen\",\"fill_alpha\":{\"value\":0.5},\"fill_color\":{\"value\":\"lightgrey\"},\"left_units\":\"screen\",\"level\":\"overlay\",\"line_alpha\":{\"value\":1.0},\"line_color\":{\"value\":\"black\"},\"line_dash\":[4,4],\"line_width\":{\"value\":2},\"plot\":null,\"render_mode\":\"css\",\"right_units\":\"screen\",\"top_units\":\"screen\"},\"id\":\"5a6e5015-9c07-47de-a1f1-1628a13d7597\",\"type\":\"BoxAnnotation\"},{\"attributes\":{},\"id\":\"b0c16ff9-affc-4991-bec7-ed0df4ff15e5\",\"type\":\"HelpTool\"},{\"attributes\":{\"line_alpha\":{\"value\":0.1},\"line_color\":{\"value\":\"#1f77b4\"},\"line_width\":{\"value\":4},\"x\":{\"field\":\"timestamp\"},\"y\":{\"field\":\"gpu 3\"}},\"id\":\"c43b2641-fc03-428f-a845-4525bf8b1f68\",\"type\":\"Line\"},{\"attributes\":{\"days\":[1,8,15,22]},\"id\":\"7fa15280-623b-4f7d-9f60-5f76e3defd3e\",\"type\":\"DaysTicker\"},{\"attributes\":{\"months\":[0,6]},\"id\":\"7332f838-3c26-44a7-b358-2849fe27edf6\",\"type\":\"MonthsTicker\"},{\"attributes\":{},\"id\":\"dc523dcb-2998-489a-9ed5-22b21b91485e\",\"type\":\"BasicTickFormatter\"},{\"attributes\":{\"items\":[{\"id\":\"ed60f722-cbff-446e-9e8f-38cfa96b2be2\",\"type\":\"LegendItem\"},{\"id\":\"f515334e-9785-4ad8-9678-1ae8844162b0\",\"type\":\"LegendItem\"},{\"id\":\"8507f74d-6dff-4ee0-b3a4-2537b1a54edf\",\"type\":\"LegendItem\"},{\"id\":\"e86e40f2-b308-4974-8b07-1216f85eb51d\",\"type\":\"LegendItem\"}],\"plot\":{\"id\":\"03634ccb-a6ed-4c70-b152-6f5bde58e5ca\",\"subtype\":\"Figure\",\"type\":\"Plot\"}},\"id\":\"9afe6b41-edfa-447a-8972-04de2ec57b96\",\"type\":\"Legend\"},{\"attributes\":{\"days\":[1,2,3,4,5,6,7,8,9,10,11,12,13,14,15,16,17,18,19,20,21,22,23,24,25,26,27,28,29,30,31]},\"id\":\"b8508c80-e4c2-46c9-afe4-487f3254a8ea\",\"type\":\"DaysTicker\"},{\"attributes\":{\"max_interval\":500.0,\"num_minor_ticks\":0},\"id\":\"79748285-9f6d-4cfb-bcf4-93323e7a9220\",\"type\":\"AdaptiveTicker\"},{\"attributes\":{\"months\":[0,2,4,6,8,10]},\"id\":\"01878bac-0387-42f8-92ac-7fab01a6d7f8\",\"type\":\"MonthsTicker\"},{\"attributes\":{\"months\":[0,4,8]},\"id\":\"c185e8f4-2e31-4f9d-98d2-69704baea582\",\"type\":\"MonthsTicker\"},{\"attributes\":{\"source\":{\"id\":\"910bd953-fbae-46dc-a3e3-2dfdb6d15409\",\"type\":\"ColumnDataSource\"}},\"id\":\"96146347-c72b-49df-a829-a5bcf0e14751\",\"type\":\"CDSView\"},{\"attributes\":{\"callback\":null,\"column_names\":[\"gpu 0\",\"gpu 1\",\"gpu 2\",\"gpu 3\",\"timestamp\"],\"data\":{\"gpu 0\":[0,36,93,97,94,93,96,97,93,93,93,96,93,97,93,98,96,68,73,97,96,97,96,97,94,0,96,97,95,97,96,98,80,97,97,90,96,95,98,97,97,96,97,92,96,80,95,96,98,96,97,96,98,96,98,90,97,95,98,90,98,96,97,93,97,86,98,96,98,95,98,88,97,85,98,95,97,96,97,96,95],\"gpu 1\":[0,0,0,0,0,0,0,0,0,0,0,0,0,0,0,0,0,0,0,0,0,0,0,0,0,0,0,0,0,0,0,0,0,0,0,0,0,0,0,0,0,0,0,0,0,0,0,0,0,0,0,0,0,0,0,0,0,0,0,0,0,0,0,0,0,0,0,0,0,0,0,0,0,0,0,0,0,0,0,0,0],\"gpu 2\":[0,0,0,0,0,0,0,0,0,0,0,0,0,0,0,0,0,0,0,0,0,0,0,0,0,0,0,0,0,0,0,0,0,0,0,0,0,0,0,0,0,0,0,0,0,0,0,0,0,0,0,0,0,0,0,0,0,0,0,0,0,0,0,0,0,0,0,0,0,0,0,0,0,0,0,0,0,0,0,0,0],\"gpu 3\":[0,0,0,0,0,0,0,0,0,0,0,0,0,0,0,0,0,0,0,0,0,0,0,0,0,0,0,0,0,0,0,0,0,0,0,0,0,0,0,0,0,0,0,0,0,0,0,0,0,0,0,0,0,0,0,0,0,0,0,0,0,0,0,0,0,0,0,0,0,0,0,0,0,0,0,0,0,0,0,0,0],\"timestamp\":{\"__ndarray__\":\"AAAf+eLkdUIAgF354uR1QgAAnPni5HVCAAAZ+uLkdUIAgFf64uR1QgCA1Pri5HVCAAAT++LkdUIAgFH74uR1QgCAzvvi5HVCAAAN/OLkdUIAgEv84uR1QgCAyPzi5HVCAAAH/eLkdUIAgEX94uR1QgAAhP3i5HVCAAAB/uLkdUIAgD/+4uR1QgCAvP7i5HVCAAD7/uLkdUIAgDn/4uR1QgCAtv/i5HVCAAD1/+LkdUIAgDMA4+R1QgCAsADj5HVCAADvAOPkdUIAgC0B4+R1QgAAbAHj5HVCAADpAePkdUIAgCcC4+R1QgAAZgLj5HVCAADjAuPkdUIAgCED4+R1QgAAYAPj5HVCAADdA+PkdUIAgBsE4+R1QgAAWgTj5HVCAICYBOPkdUIAANcE4+R1QgCAFQXj5HVCAICSBePkdUIAANEF4+R1QgCADwbj5HVCAICMBuPkdUIAAMsG4+R1QgAASAfj5HVCAICGB+PkdUIAAMUH4+R1QgCAAwjj5HVCAICACOPkdUIAAL8I4+R1QgAAPAnj5HVCAIB6CePkdUIAALkJ4+R1QgCA9wnj5HVCAIB0CuPkdUIAALMK4+R1QgCA8Qrj5HVCAIBuC+PkdUIAAK0L4+R1QgCA6wvj5HVCAIBoDOPkdUIAAKcM4+R1QgCA5Qzj5HVCAAAkDePkdUIAAKEN4+R1QgCA3w3j5HVCAIBcDuPkdUIAAJsO4+R1QgCA2Q7j5HVCAAAYD+PkdUIAAJUP4+R1QgCA0w/j5HVCAIBQEOPkdUIAAI8Q4+R1QgAADBHj5HVCAIBKEePkdUIAAIkR4+R1QgCAxxHj5HVCAIBEEuPkdUIAAIMS4+R1QgAAABPj5HVC\",\"dtype\":\"float64\",\"shape\":[81]}}},\"id\":\"910bd953-fbae-46dc-a3e3-2dfdb6d15409\",\"type\":\"ColumnDataSource\"},{\"attributes\":{\"plot\":{\"id\":\"03634ccb-a6ed-4c70-b152-6f5bde58e5ca\",\"subtype\":\"Figure\",\"type\":\"Plot\"},\"ticker\":{\"id\":\"58995cf3-5559-45f0-ba73-0b8321e6625e\",\"type\":\"DatetimeTicker\"}},\"id\":\"d7382f93-07dc-4990-8f3c-16a7428ff260\",\"type\":\"Grid\"},{\"attributes\":{\"label\":{\"value\":\"GPU 2\"},\"renderers\":[{\"id\":\"f51710a6-74c8-48cd-aff8-eedad5c82c45\",\"type\":\"GlyphRenderer\"}]},\"id\":\"8507f74d-6dff-4ee0-b3a4-2537b1a54edf\",\"type\":\"LegendItem\"},{\"attributes\":{\"label\":{\"value\":\"GPU 1\"},\"renderers\":[{\"id\":\"ee9619a4-9792-4898-88d0-690ecf43cb2b\",\"type\":\"GlyphRenderer\"}]},\"id\":\"f515334e-9785-4ad8-9678-1ae8844162b0\",\"type\":\"LegendItem\"},{\"attributes\":{\"line_alpha\":{\"value\":0.1},\"line_color\":{\"value\":\"#1f77b4\"},\"line_width\":{\"value\":4},\"x\":{\"field\":\"timestamp\"},\"y\":{\"field\":\"gpu 2\"}},\"id\":\"fa8f1f58-1170-4848-8cd5-37be2bfb154d\",\"type\":\"Line\"},{\"attributes\":{},\"id\":\"7dfc4751-d7ce-487b-98e5-60e67b8b5079\",\"type\":\"YearsTicker\"},{\"attributes\":{\"days\":[1,4,7,10,13,16,19,22,25,28]},\"id\":\"b969f7a8-677d-44f3-baf4-8abbb93268e6\",\"type\":\"DaysTicker\"},{\"attributes\":{},\"id\":\"e17a8671-01f7-4df1-863c-b99fe396410e\",\"type\":\"LinearScale\"},{\"attributes\":{\"source\":{\"id\":\"910bd953-fbae-46dc-a3e3-2dfdb6d15409\",\"type\":\"ColumnDataSource\"}},\"id\":\"c7ef46f5-aeb1-4fd0-838a-69e2eea82c85\",\"type\":\"CDSView\"},{\"attributes\":{\"data_source\":{\"id\":\"910bd953-fbae-46dc-a3e3-2dfdb6d15409\",\"type\":\"ColumnDataSource\"},\"glyph\":{\"id\":\"1caab65c-1ab4-4a4e-83fd-d8b74f1d6abe\",\"type\":\"Line\"},\"hover_glyph\":null,\"muted_glyph\":null,\"nonselection_glyph\":{\"id\":\"fa8f1f58-1170-4848-8cd5-37be2bfb154d\",\"type\":\"Line\"},\"selection_glyph\":null,\"view\":{\"id\":\"96146347-c72b-49df-a829-a5bcf0e14751\",\"type\":\"CDSView\"}},\"id\":\"f51710a6-74c8-48cd-aff8-eedad5c82c45\",\"type\":\"GlyphRenderer\"},{\"attributes\":{\"line_color\":{\"value\":\"#b2df8a\"},\"line_width\":{\"value\":4},\"x\":{\"field\":\"timestamp\"},\"y\":{\"field\":\"gpu 2\"}},\"id\":\"1caab65c-1ab4-4a4e-83fd-d8b74f1d6abe\",\"type\":\"Line\"},{\"attributes\":{\"active_drag\":\"auto\",\"active_inspect\":\"auto\",\"active_scroll\":\"auto\",\"active_tap\":\"auto\",\"tools\":[{\"id\":\"cfe663d9-de31-4e29-9a95-e0b18186264e\",\"type\":\"PanTool\"},{\"id\":\"1d7dec6a-c0eb-46b3-8a13-41bdadcb27d1\",\"type\":\"WheelZoomTool\"},{\"id\":\"df673177-e9da-44cd-98d6-f915f555d46d\",\"type\":\"BoxZoomTool\"},{\"id\":\"4234548e-86d8-45b7-85f7-3f3f56212322\",\"type\":\"SaveTool\"},{\"id\":\"48162276-c143-4658-839c-ca5cdab42a7f\",\"type\":\"ResetTool\"},{\"id\":\"b0c16ff9-affc-4991-bec7-ed0df4ff15e5\",\"type\":\"HelpTool\"}]},\"id\":\"e93fc370-6cb1-49f1-89cd-0342ba1338a2\",\"type\":\"Toolbar\"},{\"attributes\":{\"data_source\":{\"id\":\"910bd953-fbae-46dc-a3e3-2dfdb6d15409\",\"type\":\"ColumnDataSource\"},\"glyph\":{\"id\":\"359b2edf-f19c-43ca-b174-82eed56c3081\",\"type\":\"Line\"},\"hover_glyph\":null,\"muted_glyph\":null,\"nonselection_glyph\":{\"id\":\"fd5277d8-b1ba-4d36-9d39-991641694db0\",\"type\":\"Line\"},\"selection_glyph\":null,\"view\":{\"id\":\"c7ef46f5-aeb1-4fd0-838a-69e2eea82c85\",\"type\":\"CDSView\"}},\"id\":\"ee9619a4-9792-4898-88d0-690ecf43cb2b\",\"type\":\"GlyphRenderer\"},{\"attributes\":{\"line_alpha\":{\"value\":0.1},\"line_color\":{\"value\":\"#1f77b4\"},\"line_width\":{\"value\":4},\"x\":{\"field\":\"timestamp\"},\"y\":{\"field\":\"gpu 0\"}},\"id\":\"f6009ec6-9986-4a02-aa85-b303ac322bf1\",\"type\":\"Line\"},{\"attributes\":{\"source\":{\"id\":\"910bd953-fbae-46dc-a3e3-2dfdb6d15409\",\"type\":\"ColumnDataSource\"}},\"id\":\"a99519f0-7e82-4c5e-b874-ecdd7b509d76\",\"type\":\"CDSView\"},{\"attributes\":{\"base\":24,\"mantissas\":[1,2,4,6,8,12],\"max_interval\":43200000.0,\"min_interval\":3600000.0,\"num_minor_ticks\":0},\"id\":\"7516c019-7f6d-45f9-995e-24c1180de72d\",\"type\":\"AdaptiveTicker\"},{\"attributes\":{\"formatter\":{\"id\":\"95938b89-b64b-462a-acd0-e168e503f845\",\"type\":\"DatetimeTickFormatter\"},\"plot\":{\"id\":\"03634ccb-a6ed-4c70-b152-6f5bde58e5ca\",\"subtype\":\"Figure\",\"type\":\"Plot\"},\"ticker\":{\"id\":\"58995cf3-5559-45f0-ba73-0b8321e6625e\",\"type\":\"DatetimeTicker\"}},\"id\":\"6ed531a9-0f97-49a2-ac11-39302b5070d4\",\"type\":\"DatetimeAxis\"},{\"attributes\":{},\"id\":\"48162276-c143-4658-839c-ca5cdab42a7f\",\"type\":\"ResetTool\"},{\"attributes\":{\"formatter\":{\"id\":\"dc523dcb-2998-489a-9ed5-22b21b91485e\",\"type\":\"BasicTickFormatter\"},\"plot\":{\"id\":\"03634ccb-a6ed-4c70-b152-6f5bde58e5ca\",\"subtype\":\"Figure\",\"type\":\"Plot\"},\"ticker\":{\"id\":\"a713f0d9-404c-4d04-ad6d-76bcf2816fee\",\"type\":\"BasicTicker\"}},\"id\":\"cd236b9c-efd7-4f85-b61e-940014b59cf1\",\"type\":\"LinearAxis\"},{\"attributes\":{\"callback\":null},\"id\":\"ed8a5933-b8a5-451b-893e-bf694738eb4c\",\"type\":\"DataRange1d\"},{\"attributes\":{\"plot\":null,\"text\":\"\"},\"id\":\"ece27f18-4441-4abd-abb7-13028e84f899\",\"type\":\"Title\"},{\"attributes\":{\"overlay\":{\"id\":\"5a6e5015-9c07-47de-a1f1-1628a13d7597\",\"type\":\"BoxAnnotation\"}},\"id\":\"df673177-e9da-44cd-98d6-f915f555d46d\",\"type\":\"BoxZoomTool\"},{\"attributes\":{\"line_color\":{\"value\":\"#a6cee3\"},\"line_width\":{\"value\":4},\"x\":{\"field\":\"timestamp\"},\"y\":{\"field\":\"gpu 0\"}},\"id\":\"3731c0e9-4364-4b51-b158-0de03dcf28b7\",\"type\":\"Line\"},{\"attributes\":{},\"id\":\"815b3d3a-cad0-4939-9243-eb2b9a45ed41\",\"type\":\"LinearScale\"},{\"attributes\":{\"days\":[1,15]},\"id\":\"78c4d9fb-8fc4-4709-ab65-9df1377cdb1a\",\"type\":\"DaysTicker\"},{\"attributes\":{\"callback\":null,\"end\":110},\"id\":\"22f0c12c-9332-446c-a1d2-3c504abedc32\",\"type\":\"Range1d\"},{\"attributes\":{},\"id\":\"4234548e-86d8-45b7-85f7-3f3f56212322\",\"type\":\"SaveTool\"},{\"attributes\":{\"below\":[{\"id\":\"6ed531a9-0f97-49a2-ac11-39302b5070d4\",\"type\":\"DatetimeAxis\"}],\"left\":[{\"id\":\"cd236b9c-efd7-4f85-b61e-940014b59cf1\",\"type\":\"LinearAxis\"}],\"plot_height\":400,\"renderers\":[{\"id\":\"6ed531a9-0f97-49a2-ac11-39302b5070d4\",\"type\":\"DatetimeAxis\"},{\"id\":\"d7382f93-07dc-4990-8f3c-16a7428ff260\",\"type\":\"Grid\"},{\"id\":\"cd236b9c-efd7-4f85-b61e-940014b59cf1\",\"type\":\"LinearAxis\"},{\"id\":\"f63c6998-fc65-40db-8451-c21d59f7e9b8\",\"type\":\"Grid\"},{\"id\":\"5a6e5015-9c07-47de-a1f1-1628a13d7597\",\"type\":\"BoxAnnotation\"},{\"id\":\"9afe6b41-edfa-447a-8972-04de2ec57b96\",\"type\":\"Legend\"},{\"id\":\"1510d813-2ce5-4b2c-b19c-d63df287462a\",\"type\":\"GlyphRenderer\"},{\"id\":\"ee9619a4-9792-4898-88d0-690ecf43cb2b\",\"type\":\"GlyphRenderer\"},{\"id\":\"f51710a6-74c8-48cd-aff8-eedad5c82c45\",\"type\":\"GlyphRenderer\"},{\"id\":\"2786ac8a-34b4-402a-98c4-7ba82b2b0cd5\",\"type\":\"GlyphRenderer\"}],\"title\":{\"id\":\"ece27f18-4441-4abd-abb7-13028e84f899\",\"type\":\"Title\"},\"toolbar\":{\"id\":\"e93fc370-6cb1-49f1-89cd-0342ba1338a2\",\"type\":\"Toolbar\"},\"x_range\":{\"id\":\"ed8a5933-b8a5-451b-893e-bf694738eb4c\",\"type\":\"DataRange1d\"},\"x_scale\":{\"id\":\"815b3d3a-cad0-4939-9243-eb2b9a45ed41\",\"type\":\"LinearScale\"},\"y_range\":{\"id\":\"22f0c12c-9332-446c-a1d2-3c504abedc32\",\"type\":\"Range1d\"},\"y_scale\":{\"id\":\"e17a8671-01f7-4df1-863c-b99fe396410e\",\"type\":\"LinearScale\"}},\"id\":\"03634ccb-a6ed-4c70-b152-6f5bde58e5ca\",\"subtype\":\"Figure\",\"type\":\"Plot\"},{\"attributes\":{\"line_color\":{\"value\":\"#33a02c\"},\"line_width\":{\"value\":4},\"x\":{\"field\":\"timestamp\"},\"y\":{\"field\":\"gpu 3\"}},\"id\":\"2e5d7b4c-3276-4a15-b6a2-352f6a5ba818\",\"type\":\"Line\"}],\"root_ids\":[\"03634ccb-a6ed-4c70-b152-6f5bde58e5ca\"]},\"title\":\"Bokeh Application\",\"version\":\"0.12.7\"}};\n",
       "            var render_items = [{\"docid\":\"fa24a3a5-d871-4592-9fb7-a386c560bdb6\",\"elementid\":\"21e232d9-565a-4d6e-8b81-5e07ad2b5e8e\",\"modelid\":\"03634ccb-a6ed-4c70-b152-6f5bde58e5ca\"}];\n",
       "            \n",
       "            Bokeh.embed.embed_items(docs_json, render_items);\n",
       "          };\n",
       "          if (document.readyState != \"loading\") fn();\n",
       "          else document.addEventListener(\"DOMContentLoaded\", fn);\n",
       "        })();\n",
       "      },\n",
       "      function(Bokeh) {\n",
       "      }\n",
       "    ];\n",
       "  \n",
       "    function run_inline_js() {\n",
       "      \n",
       "      if ((root.Bokeh !== undefined) || (force === true)) {\n",
       "        for (var i = 0; i < inline_js.length; i++) {\n",
       "          inline_js[i].call(root, root.Bokeh);\n",
       "        }if (force === true) {\n",
       "          display_loaded();\n",
       "        }} else if (Date.now() < root._bokeh_timeout) {\n",
       "        setTimeout(run_inline_js, 100);\n",
       "      } else if (!root._bokeh_failed_load) {\n",
       "        console.log(\"Bokeh: BokehJS failed to load within specified timeout.\");\n",
       "        root._bokeh_failed_load = true;\n",
       "      } else if (force !== true) {\n",
       "        var cell = $(document.getElementById(\"21e232d9-565a-4d6e-8b81-5e07ad2b5e8e\")).parents('.cell').data().cell;\n",
       "        cell.output_area.append_execute_result(NB_LOAD_WARNING)\n",
       "      }\n",
       "  \n",
       "    }\n",
       "  \n",
       "    if (root._bokeh_is_loading === 0) {\n",
       "      console.log(\"Bokeh: BokehJS loaded, going straight to plotting\");\n",
       "      run_inline_js();\n",
       "    } else {\n",
       "      load_libs(js_urls, function() {\n",
       "        console.log(\"Bokeh: BokehJS plotting callback run at\", now());\n",
       "        run_inline_js();\n",
       "      });\n",
       "    }\n",
       "  }(window));\n",
       "</script>"
      ]
     },
     "metadata": {},
     "output_type": "display_data"
    }
   ],
   "source": [
    "show(p)"
   ]
  },
  {
   "cell_type": "code",
   "execution_count": 14,
   "metadata": {
    "collapsed": true
   },
   "outputs": [],
   "source": [
    "installed_packages = [package.project_name for package in pip.get_installed_distributions()]"
   ]
  },
  {
   "cell_type": "code",
   "execution_count": 16,
   "metadata": {},
   "outputs": [
    {
     "data": {
      "image/svg+xml": [
       "<svg height=\"400\" style=\"width: 600px; height: 400px;\" version=\"1.1\" width=\"600\" xmlns=\"http://www.w3.org/2000/svg\" xmlns:xlink=\"http://www.w3.org/1999/xlink\"><defs/><g><g/><g transform=\"scale(1,1) translate(0.5,0.5)\"><rect fill=\"#FFFFFF\" height=\"400\" stroke=\"none\" width=\"600\" x=\"0\" y=\"0\"/><rect fill=\"#ffffff\" height=\"400\" stroke=\"none\" width=\"600\" x=\"0\" y=\"0\"/><rect fill=\"#FFFFFF\" height=\"368.9925\" stroke=\"none\" width=\"535.9515625\" x=\"34.048437500000006\" y=\"5\"/><rect fill=\"#ffffff\" height=\"368.9925\" stroke=\"none\" width=\"535.9515625\" x=\"34.048437500000006\" y=\"5\"/><g><rect fill=\"none\" height=\"368.9925\" stroke=\"#e5e5e5\" stroke-miterlimit=\"10\" width=\"535.9515625\" x=\"34.048437500000006\" y=\"5\"/></g><g><g><path d=\" M 86 374 L 86 5\" fill=\"none\" paint-order=\"fill stroke markers\" stroke=\"#e5e5e5\" stroke-miterlimit=\"10\"/><path d=\" M 178 374 L 178 5\" fill=\"none\" paint-order=\"fill stroke markers\" stroke=\"#e5e5e5\" stroke-miterlimit=\"10\"/><path d=\" M 270 374 L 270 5\" fill=\"none\" paint-order=\"fill stroke markers\" stroke=\"#e5e5e5\" stroke-miterlimit=\"10\"/><path d=\" M 362 374 L 362 5\" fill=\"none\" paint-order=\"fill stroke markers\" stroke=\"#e5e5e5\" stroke-miterlimit=\"10\"/><path d=\" M 454 374 L 454 5\" fill=\"none\" paint-order=\"fill stroke markers\" stroke=\"#e5e5e5\" stroke-miterlimit=\"10\"/><path d=\" M 546 374 L 546 5\" fill=\"none\" paint-order=\"fill stroke markers\" stroke=\"#e5e5e5\" stroke-miterlimit=\"10\"/></g><g><path d=\" M 34 307 L 570 307\" fill=\"none\" paint-order=\"fill stroke markers\" stroke=\"#e5e5e5\" stroke-miterlimit=\"10\"/><path d=\" M 34 240 L 570 240\" fill=\"none\" paint-order=\"fill stroke markers\" stroke=\"#e5e5e5\" stroke-miterlimit=\"10\"/><path d=\" M 34 173 L 570 173\" fill=\"none\" paint-order=\"fill stroke markers\" stroke=\"#e5e5e5\" stroke-miterlimit=\"10\"/><path d=\" M 34 106 L 570 106\" fill=\"none\" paint-order=\"fill stroke markers\" stroke=\"#e5e5e5\" stroke-miterlimit=\"10\"/><path d=\" M 34 39 L 570 39\" fill=\"none\" paint-order=\"fill stroke markers\" stroke=\"#e5e5e5\" stroke-miterlimit=\"10\"/></g><g><path fill=\"none\" stroke=\"none\"/><path d=\" M 58.409871101379395 373.9925 L 63.00636863708496 253.23131818181818 L 67.60286617279053 62.02611363636362 L 76.79586029052734 48.608204545454555 L 81.3923568725586 58.67163636363637 L 90.58535099029541 62.02611363636362 L 95.18184852600098 51.96268181818181 L 99.77834510803223 48.608204545454555 L 108.97133922576904 62.02611363636362 L 113.56783676147461 62.02611363636362 L 118.16433429718018 62.02611363636362 L 127.35732841491699 51.96268181818181 L 131.95382499694824 62.02611363636362 L 136.5503225326538 48.608204545454555 L 141.14681911468506 62.02611363636362 L 150.33981323242188 45.25372727272725 L 154.93631076812744 51.96268181818181 L 164.12930488586426 145.88804545454545 L 168.72580242156982 129.11565909090905 L 173.32229900360107 48.608204545454555 L 182.5152931213379 51.96268181818181 L 187.11179065704346 48.608204545454555 L 191.7082872390747 51.96268181818181 L 200.90128135681152 48.608204545454555 L 205.4977788925171 58.67163636363637 L 210.09427642822266 373.9925 L 214.6907730102539 51.96268181818181 L 223.88376712799072 48.608204545454555 L 228.4802646636963 55.31715909090906 L 233.07676124572754 48.608204545454555 L 242.26975536346436 51.96268181818181 L 246.86625289916992 45.25372727272725 L 251.4627504348755 105.63431818181817 L 260.6557445526123 48.608204545454555 L 265.25224113464355 48.608204545454555 L 269.8487386703491 72.08954545454543 L 274.44523525238037 51.96268181818181 L 279.04173278808594 55.31715909090906 L 283.6382293701172 45.25372727272725 L 292.831223487854 48.608204545454555 L 297.42772102355957 48.608204545454555 L 302.02421855926514 51.96268181818181 L 311.21721267700195 48.608204545454555 L 315.8137092590332 65.38059090909093 L 325.00670337677 51.96268181818181 L 329.6032009124756 105.63431818181817 L 334.19969749450684 55.31715909090906 L 338.7961950302124 51.96268181818181 L 347.9891891479492 45.25372727272725 L 352.5856866836548 51.96268181818181 L 361.7786808013916 48.608204545454555 L 366.37517738342285 51.96268181818181 L 370.9716749191284 45.25372727272725 L 375.56817150115967 51.96268181818181 L 384.7611656188965 45.25372727272725 L 389.35766315460205 72.08954545454543 L 393.9541606903076 48.608204545454555 L 403.14715480804443 55.31715909090906 L 407.7436513900757 45.25372727272725 L 412.34014892578125 72.08954545454543 L 421.53314304351807 45.25372727272725 L 426.1296396255493 51.96268181818181 L 430.7261371612549 48.608204545454555 L 435.32263374328613 62.02611363636362 L 444.51562881469727 48.608204545454555 L 449.1121253967285 85.50745454545455 L 458.30511951446533 45.25372727272725 L 462.9016170501709 51.96268181818181 L 467.49811363220215 45.25372727272725 L 472.0946111679077 55.31715909090906 L 481.28760528564453 45.25372727272725 L 485.8841018676758 78.79849999999999 L 495.0770969390869 48.608204545454555 L 499.67359352111816 88.8619318181818 L 508.866587638855 45.25372727272725 L 513.4630851745605 55.31715909090906 L 518.0595817565918 48.608204545454555 L 522.6560792922974 51.96268181818181 L 531.8490734100342 48.608204545454555 L 536.4455709457397 51.96268181818181 L 545.6385650634766 55.31715909090906\" fill=\"none\" paint-order=\"fill stroke markers\" stroke=\"#a6cee3\" stroke-miterlimit=\"10\" stroke-width=\"4\"/></g><g><path fill=\"none\" stroke=\"none\"/><path d=\" M 58.409871101379395 373.9925 L 63.00636863708496 373.9925 L 67.60286617279053 373.9925 L 76.79586029052734 373.9925 L 81.3923568725586 373.9925 L 90.58535099029541 373.9925 L 95.18184852600098 373.9925 L 99.77834510803223 373.9925 L 108.97133922576904 373.9925 L 113.56783676147461 373.9925 L 118.16433429718018 373.9925 L 127.35732841491699 373.9925 L 131.95382499694824 373.9925 L 136.5503225326538 373.9925 L 141.14681911468506 373.9925 L 150.33981323242188 373.9925 L 154.93631076812744 373.9925 L 164.12930488586426 373.9925 L 168.72580242156982 373.9925 L 173.32229900360107 373.9925 L 182.5152931213379 373.9925 L 187.11179065704346 373.9925 L 191.7082872390747 373.9925 L 200.90128135681152 373.9925 L 205.4977788925171 373.9925 L 210.09427642822266 373.9925 L 214.6907730102539 373.9925 L 223.88376712799072 373.9925 L 228.4802646636963 373.9925 L 233.07676124572754 373.9925 L 242.26975536346436 373.9925 L 246.86625289916992 373.9925 L 251.4627504348755 373.9925 L 260.6557445526123 373.9925 L 265.25224113464355 373.9925 L 269.8487386703491 373.9925 L 274.44523525238037 373.9925 L 279.04173278808594 373.9925 L 283.6382293701172 373.9925 L 292.831223487854 373.9925 L 297.42772102355957 373.9925 L 302.02421855926514 373.9925 L 311.21721267700195 373.9925 L 315.8137092590332 373.9925 L 325.00670337677 373.9925 L 329.6032009124756 373.9925 L 334.19969749450684 373.9925 L 338.7961950302124 373.9925 L 347.9891891479492 373.9925 L 352.5856866836548 373.9925 L 361.7786808013916 373.9925 L 366.37517738342285 373.9925 L 370.9716749191284 373.9925 L 375.56817150115967 373.9925 L 384.7611656188965 373.9925 L 389.35766315460205 373.9925 L 393.9541606903076 373.9925 L 403.14715480804443 373.9925 L 407.7436513900757 373.9925 L 412.34014892578125 373.9925 L 421.53314304351807 373.9925 L 426.1296396255493 373.9925 L 430.7261371612549 373.9925 L 435.32263374328613 373.9925 L 444.51562881469727 373.9925 L 449.1121253967285 373.9925 L 458.30511951446533 373.9925 L 462.9016170501709 373.9925 L 467.49811363220215 373.9925 L 472.0946111679077 373.9925 L 481.28760528564453 373.9925 L 485.8841018676758 373.9925 L 495.0770969390869 373.9925 L 499.67359352111816 373.9925 L 508.866587638855 373.9925 L 513.4630851745605 373.9925 L 518.0595817565918 373.9925 L 522.6560792922974 373.9925 L 531.8490734100342 373.9925 L 536.4455709457397 373.9925 L 545.6385650634766 373.9925\" fill=\"none\" paint-order=\"fill stroke markers\" stroke=\"#1f78b4\" stroke-miterlimit=\"10\" stroke-width=\"4\"/></g><g><path fill=\"none\" stroke=\"none\"/><path d=\" M 58.409871101379395 373.9925 L 63.00636863708496 373.9925 L 67.60286617279053 373.9925 L 76.79586029052734 373.9925 L 81.3923568725586 373.9925 L 90.58535099029541 373.9925 L 95.18184852600098 373.9925 L 99.77834510803223 373.9925 L 108.97133922576904 373.9925 L 113.56783676147461 373.9925 L 118.16433429718018 373.9925 L 127.35732841491699 373.9925 L 131.95382499694824 373.9925 L 136.5503225326538 373.9925 L 141.14681911468506 373.9925 L 150.33981323242188 373.9925 L 154.93631076812744 373.9925 L 164.12930488586426 373.9925 L 168.72580242156982 373.9925 L 173.32229900360107 373.9925 L 182.5152931213379 373.9925 L 187.11179065704346 373.9925 L 191.7082872390747 373.9925 L 200.90128135681152 373.9925 L 205.4977788925171 373.9925 L 210.09427642822266 373.9925 L 214.6907730102539 373.9925 L 223.88376712799072 373.9925 L 228.4802646636963 373.9925 L 233.07676124572754 373.9925 L 242.26975536346436 373.9925 L 246.86625289916992 373.9925 L 251.4627504348755 373.9925 L 260.6557445526123 373.9925 L 265.25224113464355 373.9925 L 269.8487386703491 373.9925 L 274.44523525238037 373.9925 L 279.04173278808594 373.9925 L 283.6382293701172 373.9925 L 292.831223487854 373.9925 L 297.42772102355957 373.9925 L 302.02421855926514 373.9925 L 311.21721267700195 373.9925 L 315.8137092590332 373.9925 L 325.00670337677 373.9925 L 329.6032009124756 373.9925 L 334.19969749450684 373.9925 L 338.7961950302124 373.9925 L 347.9891891479492 373.9925 L 352.5856866836548 373.9925 L 361.7786808013916 373.9925 L 366.37517738342285 373.9925 L 370.9716749191284 373.9925 L 375.56817150115967 373.9925 L 384.7611656188965 373.9925 L 389.35766315460205 373.9925 L 393.9541606903076 373.9925 L 403.14715480804443 373.9925 L 407.7436513900757 373.9925 L 412.34014892578125 373.9925 L 421.53314304351807 373.9925 L 426.1296396255493 373.9925 L 430.7261371612549 373.9925 L 435.32263374328613 373.9925 L 444.51562881469727 373.9925 L 449.1121253967285 373.9925 L 458.30511951446533 373.9925 L 462.9016170501709 373.9925 L 467.49811363220215 373.9925 L 472.0946111679077 373.9925 L 481.28760528564453 373.9925 L 485.8841018676758 373.9925 L 495.0770969390869 373.9925 L 499.67359352111816 373.9925 L 508.866587638855 373.9925 L 513.4630851745605 373.9925 L 518.0595817565918 373.9925 L 522.6560792922974 373.9925 L 531.8490734100342 373.9925 L 536.4455709457397 373.9925 L 545.6385650634766 373.9925\" fill=\"none\" paint-order=\"fill stroke markers\" stroke=\"#b2df8a\" stroke-miterlimit=\"10\" stroke-width=\"4\"/></g><g><path fill=\"none\" stroke=\"none\"/><path d=\" M 58.409871101379395 373.9925 L 63.00636863708496 373.9925 L 67.60286617279053 373.9925 L 76.79586029052734 373.9925 L 81.3923568725586 373.9925 L 90.58535099029541 373.9925 L 95.18184852600098 373.9925 L 99.77834510803223 373.9925 L 108.97133922576904 373.9925 L 113.56783676147461 373.9925 L 118.16433429718018 373.9925 L 127.35732841491699 373.9925 L 131.95382499694824 373.9925 L 136.5503225326538 373.9925 L 141.14681911468506 373.9925 L 150.33981323242188 373.9925 L 154.93631076812744 373.9925 L 164.12930488586426 373.9925 L 168.72580242156982 373.9925 L 173.32229900360107 373.9925 L 182.5152931213379 373.9925 L 187.11179065704346 373.9925 L 191.7082872390747 373.9925 L 200.90128135681152 373.9925 L 205.4977788925171 373.9925 L 210.09427642822266 373.9925 L 214.6907730102539 373.9925 L 223.88376712799072 373.9925 L 228.4802646636963 373.9925 L 233.07676124572754 373.9925 L 242.26975536346436 373.9925 L 246.86625289916992 373.9925 L 251.4627504348755 373.9925 L 260.6557445526123 373.9925 L 265.25224113464355 373.9925 L 269.8487386703491 373.9925 L 274.44523525238037 373.9925 L 279.04173278808594 373.9925 L 283.6382293701172 373.9925 L 292.831223487854 373.9925 L 297.42772102355957 373.9925 L 302.02421855926514 373.9925 L 311.21721267700195 373.9925 L 315.8137092590332 373.9925 L 325.00670337677 373.9925 L 329.6032009124756 373.9925 L 334.19969749450684 373.9925 L 338.7961950302124 373.9925 L 347.9891891479492 373.9925 L 352.5856866836548 373.9925 L 361.7786808013916 373.9925 L 366.37517738342285 373.9925 L 370.9716749191284 373.9925 L 375.56817150115967 373.9925 L 384.7611656188965 373.9925 L 389.35766315460205 373.9925 L 393.9541606903076 373.9925 L 403.14715480804443 373.9925 L 407.7436513900757 373.9925 L 412.34014892578125 373.9925 L 421.53314304351807 373.9925 L 426.1296396255493 373.9925 L 430.7261371612549 373.9925 L 435.32263374328613 373.9925 L 444.51562881469727 373.9925 L 449.1121253967285 373.9925 L 458.30511951446533 373.9925 L 462.9016170501709 373.9925 L 467.49811363220215 373.9925 L 472.0946111679077 373.9925 L 481.28760528564453 373.9925 L 485.8841018676758 373.9925 L 495.0770969390869 373.9925 L 499.67359352111816 373.9925 L 508.866587638855 373.9925 L 513.4630851745605 373.9925 L 518.0595817565918 373.9925 L 522.6560792922974 373.9925 L 531.8490734100342 373.9925 L 536.4455709457397 373.9925 L 545.6385650634766 373.9925\" fill=\"none\" paint-order=\"fill stroke markers\" stroke=\"#33a02c\" stroke-miterlimit=\"10\" stroke-width=\"4\"/></g></g><g><g/><g><path d=\" M 472.765625 15 L 560 15 L 560 124 L 472.765625 124 L 472.765625 15 Z\" fill=\"#ffffff\" fill-opacity=\"0.95\" paint-order=\"fill stroke markers\" stroke=\"#e5e5e5\" stroke-miterlimit=\"10\" stroke-opacity=\"0.5\"/><text dominant-baseline=\"central\" fill=\"#444444\" font-family=\"helvetica\" font-size=\"10pt\" font-style=\"normal\" font-weight=\"normal\" stroke=\"none\" text-anchor=\"start\" text-decoration=\"normal\" x=\"507.765625\" y=\"35\">GPU 0</text><g><path d=\" M 482.765625 35 L 502.765625 35\" fill=\"none\" paint-order=\"fill stroke markers\" stroke=\"#a6cee3\" stroke-miterlimit=\"10\" stroke-width=\"4\"/></g><text dominant-baseline=\"central\" fill=\"#444444\" font-family=\"helvetica\" font-size=\"10pt\" font-style=\"normal\" font-weight=\"normal\" stroke=\"none\" text-anchor=\"start\" text-decoration=\"normal\" x=\"507.765625\" y=\"58\">GPU 1</text><g><path d=\" M 482.765625 58 L 502.765625 58\" fill=\"none\" paint-order=\"fill stroke markers\" stroke=\"#1f78b4\" stroke-miterlimit=\"10\" stroke-width=\"4\"/></g><text dominant-baseline=\"central\" fill=\"#444444\" font-family=\"helvetica\" font-size=\"10pt\" font-style=\"normal\" font-weight=\"normal\" stroke=\"none\" text-anchor=\"start\" text-decoration=\"normal\" x=\"507.765625\" y=\"81\">GPU 2</text><g><path d=\" M 482.765625 81 L 502.765625 81\" fill=\"none\" paint-order=\"fill stroke markers\" stroke=\"#b2df8a\" stroke-miterlimit=\"10\" stroke-width=\"4\"/></g><text dominant-baseline=\"central\" fill=\"#444444\" font-family=\"helvetica\" font-size=\"10pt\" font-style=\"normal\" font-weight=\"normal\" stroke=\"none\" text-anchor=\"start\" text-decoration=\"normal\" x=\"507.765625\" y=\"104\">GPU 3</text><g><path d=\" M 482.765625 104 L 502.765625 104\" fill=\"none\" paint-order=\"fill stroke markers\" stroke=\"#33a02c\" stroke-miterlimit=\"10\" stroke-width=\"4\"/></g></g></g><g><g fill=\"#444444\"><path d=\" M 34 374 L 570 374\" fill=\"none\" paint-order=\"fill stroke markers\" stroke=\"black\" stroke-miterlimit=\"10\"/><path d=\" M 86 380 L 86 372\" fill=\"none\" paint-order=\"fill stroke markers\" stroke=\"black\" stroke-miterlimit=\"10\"/><path d=\" M 178 380 L 178 372\" fill=\"none\" paint-order=\"fill stroke markers\" stroke=\"black\" stroke-miterlimit=\"10\"/><path d=\" M 270 380 L 270 372\" fill=\"none\" paint-order=\"fill stroke markers\" stroke=\"black\" stroke-miterlimit=\"10\"/><path d=\" M 362 380 L 362 372\" fill=\"none\" paint-order=\"fill stroke markers\" stroke=\"black\" stroke-miterlimit=\"10\"/><path d=\" M 454 380 L 454 372\" fill=\"none\" paint-order=\"fill stroke markers\" stroke=\"black\" stroke-miterlimit=\"10\"/><path d=\" M 546 380 L 546 372\" fill=\"\" paint-order=\"fill stroke markers\" stroke=\"black\" stroke-miterlimit=\"10\"/><g transform=\"translate(86,385) rotate(0,0,0)\"><text dominant-baseline=\"hanging\" fill=\"\" font-family=\"helvetica\" font-size=\"8pt\" font-style=\"normal\" font-weight=\"normal\" stroke=\"none\" text-anchor=\"middle\" text-decoration=\"normal\" x=\"0\" y=\"0\">:38:20</text><g transform=\"rotate(0,0,0) translate(-86,-385) translate(178,385) rotate(0,0,0)\"><text dominant-baseline=\"hanging\" fill=\"\" font-family=\"helvetica\" font-size=\"8pt\" font-style=\"normal\" font-weight=\"normal\" stroke=\"none\" text-anchor=\"middle\" text-decoration=\"normal\" x=\"0\" y=\"0\">:38:40</text><g transform=\"rotate(0,0,0) translate(-178,-385) translate(270,385) rotate(0,0,0)\"><text dominant-baseline=\"hanging\" fill=\"\" font-family=\"helvetica\" font-size=\"8pt\" font-style=\"normal\" font-weight=\"normal\" stroke=\"none\" text-anchor=\"middle\" text-decoration=\"normal\" x=\"0\" y=\"0\">:39:00</text><g transform=\"rotate(0,0,0) translate(-270,-385) translate(362,385) rotate(0,0,0)\"><text dominant-baseline=\"hanging\" fill=\"\" font-family=\"helvetica\" font-size=\"8pt\" font-style=\"normal\" font-weight=\"normal\" stroke=\"none\" text-anchor=\"middle\" text-decoration=\"normal\" x=\"0\" y=\"0\">:39:20</text><g transform=\"rotate(0,0,0) translate(-362,-385) translate(454,385) rotate(0,0,0)\"><text dominant-baseline=\"hanging\" fill=\"\" font-family=\"helvetica\" font-size=\"8pt\" font-style=\"normal\" font-weight=\"normal\" stroke=\"none\" text-anchor=\"middle\" text-decoration=\"normal\" x=\"0\" y=\"0\">:39:40</text><g transform=\"rotate(0,0,0) translate(-454,-385) translate(546,385) rotate(0,0,0)\"><text dominant-baseline=\"hanging\" fill=\"\" font-family=\"helvetica\" font-size=\"8pt\" font-style=\"normal\" font-weight=\"normal\" stroke=\"none\" text-anchor=\"middle\" text-decoration=\"normal\" x=\"0\" y=\"0\">:40:00</text><g transform=\"rotate(0,0,0) translate(-546,-385) translate(302,405) rotate(0,0,0)\"><text dominant-baseline=\"hanging\" fill=\"\" font-family=\"helvetica\" font-size=\"10pt\" font-style=\"italic\" font-weight=\"normal\" stroke=\"none\" text-anchor=\"middle\" text-decoration=\"normal\" x=\"0\" y=\"0\"/><g transform=\"rotate(0,0,0) translate(-302,-405)\"/></g></g></g></g></g></g></g></g><g fill=\"#444444\"><path d=\" M 34 374 L 34 5\" fill=\"none\" paint-order=\"fill stroke markers\" stroke=\"black\" stroke-miterlimit=\"10\"/><path d=\" M 28 374 L 36 374\" fill=\"none\" paint-order=\"fill stroke markers\" stroke=\"black\" stroke-miterlimit=\"10\"/><path d=\" M 28 307 L 36 307\" fill=\"none\" paint-order=\"fill stroke markers\" stroke=\"black\" stroke-miterlimit=\"10\"/><path d=\" M 28 240 L 36 240\" fill=\"none\" paint-order=\"fill stroke markers\" stroke=\"black\" stroke-miterlimit=\"10\"/><path d=\" M 28 173 L 36 173\" fill=\"none\" paint-order=\"fill stroke markers\" stroke=\"black\" stroke-miterlimit=\"10\"/><path d=\" M 28 106 L 36 106\" fill=\"none\" paint-order=\"fill stroke markers\" stroke=\"black\" stroke-miterlimit=\"10\"/><path d=\" M 28 39 L 36 39\" fill=\"none\" paint-order=\"fill stroke markers\" stroke=\"black\" stroke-miterlimit=\"10\"/><path d=\" M 30 374 L 34 374\" fill=\"none\" paint-order=\"fill stroke markers\" stroke=\"black\" stroke-miterlimit=\"10\"/><path d=\" M 30 361 L 34 361\" fill=\"none\" paint-order=\"fill stroke markers\" stroke=\"black\" stroke-miterlimit=\"10\"/><path d=\" M 30 347 L 34 347\" fill=\"none\" paint-order=\"fill stroke markers\" stroke=\"black\" stroke-miterlimit=\"10\"/><path d=\" M 30 334 L 34 334\" fill=\"none\" paint-order=\"fill stroke markers\" stroke=\"black\" stroke-miterlimit=\"10\"/><path d=\" M 30 320 L 34 320\" fill=\"none\" paint-order=\"fill stroke markers\" stroke=\"black\" stroke-miterlimit=\"10\"/><path d=\" M 30 307 L 34 307\" fill=\"none\" paint-order=\"fill stroke markers\" stroke=\"black\" stroke-miterlimit=\"10\"/><path d=\" M 30 293 L 34 293\" fill=\"none\" paint-order=\"fill stroke markers\" stroke=\"black\" stroke-miterlimit=\"10\"/><path d=\" M 30 280 L 34 280\" fill=\"none\" paint-order=\"fill stroke markers\" stroke=\"black\" stroke-miterlimit=\"10\"/><path d=\" M 30 267 L 34 267\" fill=\"none\" paint-order=\"fill stroke markers\" stroke=\"black\" stroke-miterlimit=\"10\"/><path d=\" M 30 253 L 34 253\" fill=\"none\" paint-order=\"fill stroke markers\" stroke=\"black\" stroke-miterlimit=\"10\"/><path d=\" M 30 240 L 34 240\" fill=\"none\" paint-order=\"fill stroke markers\" stroke=\"black\" stroke-miterlimit=\"10\"/><path d=\" M 30 226 L 34 226\" fill=\"none\" paint-order=\"fill stroke markers\" stroke=\"black\" stroke-miterlimit=\"10\"/><path d=\" M 30 213 L 34 213\" fill=\"none\" paint-order=\"fill stroke markers\" stroke=\"black\" stroke-miterlimit=\"10\"/><path d=\" M 30 200 L 34 200\" fill=\"none\" paint-order=\"fill stroke markers\" stroke=\"black\" stroke-miterlimit=\"10\"/><path d=\" M 30 186 L 34 186\" fill=\"none\" paint-order=\"fill stroke markers\" stroke=\"black\" stroke-miterlimit=\"10\"/><path d=\" M 30 173 L 34 173\" fill=\"none\" paint-order=\"fill stroke markers\" stroke=\"black\" stroke-miterlimit=\"10\"/><path d=\" M 30 159 L 34 159\" fill=\"none\" paint-order=\"fill stroke markers\" stroke=\"black\" stroke-miterlimit=\"10\"/><path d=\" M 30 146 L 34 146\" fill=\"none\" paint-order=\"fill stroke markers\" stroke=\"black\" stroke-miterlimit=\"10\"/><path d=\" M 30 132 L 34 132\" fill=\"none\" paint-order=\"fill stroke markers\" stroke=\"black\" stroke-miterlimit=\"10\"/><path d=\" M 30 119 L 34 119\" fill=\"none\" paint-order=\"fill stroke markers\" stroke=\"black\" stroke-miterlimit=\"10\"/><path d=\" M 30 106 L 34 106\" fill=\"none\" paint-order=\"fill stroke markers\" stroke=\"black\" stroke-miterlimit=\"10\"/><path d=\" M 30 92 L 34 92\" fill=\"none\" paint-order=\"fill stroke markers\" stroke=\"black\" stroke-miterlimit=\"10\"/><path d=\" M 30 79 L 34 79\" fill=\"none\" paint-order=\"fill stroke markers\" stroke=\"black\" stroke-miterlimit=\"10\"/><path d=\" M 30 65 L 34 65\" fill=\"none\" paint-order=\"fill stroke markers\" stroke=\"black\" stroke-miterlimit=\"10\"/><path d=\" M 30 52 L 34 52\" fill=\"none\" paint-order=\"fill stroke markers\" stroke=\"black\" stroke-miterlimit=\"10\"/><path d=\" M 30 39 L 34 39\" fill=\"none\" paint-order=\"fill stroke markers\" stroke=\"black\" stroke-miterlimit=\"10\"/><path d=\" M 30 25 L 34 25\" fill=\"none\" paint-order=\"fill stroke markers\" stroke=\"black\" stroke-miterlimit=\"10\"/><path d=\" M 30 12 L 34 12\" fill=\"\" paint-order=\"fill stroke markers\" stroke=\"black\" stroke-miterlimit=\"10\"/><g transform=\"translate(23,374) rotate(0,0,0)\"><text dominant-baseline=\"central\" fill=\"\" font-family=\"helvetica\" font-size=\"8pt\" font-style=\"normal\" font-weight=\"normal\" stroke=\"none\" text-anchor=\"end\" text-decoration=\"normal\" x=\"0\" y=\"0\">0</text><g transform=\"rotate(0,0,0) translate(-23,-374) translate(23,307) rotate(0,0,0)\"><text dominant-baseline=\"central\" fill=\"\" font-family=\"helvetica\" font-size=\"8pt\" font-style=\"normal\" font-weight=\"normal\" stroke=\"none\" text-anchor=\"end\" text-decoration=\"normal\" x=\"0\" y=\"0\">20</text><g transform=\"rotate(0,0,0) translate(-23,-307) translate(23,240) rotate(0,0,0)\"><text dominant-baseline=\"central\" fill=\"\" font-family=\"helvetica\" font-size=\"8pt\" font-style=\"normal\" font-weight=\"normal\" stroke=\"none\" text-anchor=\"end\" text-decoration=\"normal\" x=\"0\" y=\"0\">40</text><g transform=\"rotate(0,0,0) translate(-23,-240) translate(23,173) rotate(0,0,0)\"><text dominant-baseline=\"central\" fill=\"\" font-family=\"helvetica\" font-size=\"8pt\" font-style=\"normal\" font-weight=\"normal\" stroke=\"none\" text-anchor=\"end\" text-decoration=\"normal\" x=\"0\" y=\"0\">60</text><g transform=\"rotate(0,0,0) translate(-23,-173) translate(23,106) rotate(0,0,0)\"><text dominant-baseline=\"central\" fill=\"\" font-family=\"helvetica\" font-size=\"8pt\" font-style=\"normal\" font-weight=\"normal\" stroke=\"none\" text-anchor=\"end\" text-decoration=\"normal\" x=\"0\" y=\"0\">80</text><g transform=\"rotate(0,0,0) translate(-23,-106) translate(23,39) rotate(0,0,0)\"><text dominant-baseline=\"central\" fill=\"\" font-family=\"helvetica\" font-size=\"8pt\" font-style=\"normal\" font-weight=\"normal\" stroke=\"none\" text-anchor=\"end\" text-decoration=\"normal\" x=\"0\" y=\"0\">100</text><g transform=\"rotate(0,0,0) translate(-23,-39) translate(-5,189) rotate(-90,0,0)\"><text dominant-baseline=\"alphabetic\" fill=\"\" font-family=\"helvetica\" font-size=\"10pt\" font-style=\"italic\" font-weight=\"normal\" stroke=\"none\" text-anchor=\"middle\" text-decoration=\"normal\" x=\"0\" y=\"0\"/><g transform=\"rotate(90,0,0) translate(5,-189)\"/></g></g></g></g></g></g></g></g></g></g></g></svg>"
      ],
      "text/plain": [
       "<IPython.core.display.SVG object>"
      ]
     },
     "metadata": {},
     "output_type": "display_data"
    }
   ],
   "source": [
    "if 'selenium' in installed_packages:\n",
    "    p.output_backend = \"svg\"\n",
    "    export_svgs(p, filename=\"pytorch.svg\")\n",
    "    display(SVG('pytorch.svg'))"
   ]
  },
  {
   "cell_type": "code",
   "execution_count": 20,
   "metadata": {},
   "outputs": [
    {
     "name": "stdout",
     "output_type": "stream",
     "text": [
      "CPU times: user 788 ms, sys: 100 ms, total: 888 ms\n",
      "Wall time: 886 ms\n"
     ]
    }
   ],
   "source": [
    "%%time\n",
    "# Test model\n",
    "# Sets training = False\n",
    "sym.eval()\n",
    "n_samples = (y_test.shape[0]//BATCHSIZE)*BATCHSIZE\n",
    "y_guess = np.zeros(n_samples, dtype=np.int)\n",
    "y_truth = y_test[:n_samples]\n",
    "c = 0\n",
    "for data, target in yield_mb(x_test, y_test, BATCHSIZE):\n",
    "    # Get samples\n",
    "    data = Variable(torch.FloatTensor(data).cuda())\n",
    "    # Forwards\n",
    "    output = sym(data)\n",
    "    pred = output.data.max(1)[1].cpu().numpy().squeeze()\n",
    "    # Collect results\n",
    "    y_guess[c*BATCHSIZE:(c+1)*BATCHSIZE] = pred\n",
    "    c += 1"
   ]
  },
  {
   "cell_type": "code",
   "execution_count": 21,
   "metadata": {},
   "outputs": [
    {
     "name": "stdout",
     "output_type": "stream",
     "text": [
      "Accuracy:  0.774138621795\n"
     ]
    }
   ],
   "source": [
    "print(\"Accuracy: \", sum(y_guess == y_truth)/len(y_guess))"
   ]
  }
 ],
 "metadata": {
  "anaconda-cloud": {},
  "kernelspec": {
   "display_name": "Python36 (pytorch)",
   "language": "python",
   "name": "pytorch"
  },
  "language_info": {
   "codemirror_mode": {
    "name": "ipython",
    "version": 3
   },
   "file_extension": ".py",
   "mimetype": "text/x-python",
   "name": "python",
   "nbconvert_exporter": "python",
   "pygments_lexer": "ipython3",
   "version": "3.6.1"
  }
 },
 "nbformat": 4,
 "nbformat_minor": 2
}
